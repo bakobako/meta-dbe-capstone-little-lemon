{
 "cells": [
  {
   "cell_type": "code",
   "execution_count": null,
   "id": "initial_id",
   "metadata": {
    "collapsed": true
   },
   "outputs": [],
   "source": [
    "import mysql.connector as connector\n",
    "from mysql.connector import Error"
   ]
  },
  {
   "cell_type": "code",
   "execution_count": null,
   "outputs": [],
   "source": [
    "# Establishing connection\n",
    "try:\n",
    "    connection=connector.connect(user=\"root\",password=\"\")\n",
    "except Error as er:\n",
    "    print(er.msg)\n",
    "\n",
    "print(\"MySQL connection established.\")"
   ],
   "metadata": {
    "collapsed": false
   },
   "id": "8bd4f9d0384c492e"
  },
  {
   "cell_type": "code",
   "execution_count": null,
   "outputs": [],
   "source": [
    "# Creating a cursor object to execute SQL queries\n",
    "cursor = connection.cursor()\n",
    "print(\"Cursor object created.\")"
   ],
   "metadata": {
    "collapsed": false
   },
   "id": "f0ce75ce8a1af77a"
  },
  {
   "cell_type": "code",
   "execution_count": null,
   "outputs": [],
   "source": [
    "cursor.execute(\"USE LittleLemonDB\")\n",
    "connection.database\n",
    "print(\"LittleLemonDB Database selected.\")"
   ],
   "metadata": {
    "collapsed": false
   },
   "id": "ea53d0deb8a7c896"
  },
  {
   "cell_type": "code",
   "execution_count": null,
   "outputs": [],
   "source": [
    "show_tables_query = \"SHOW TABLES;\" \n",
    "\n",
    "cursor.execute(show_tables_query)\n",
    "results=cursor.fetchall()\n",
    "columns=cursor.column_names\n",
    "\n",
    "print(columns)\n",
    "for result in results:\n",
    "    print(result)"
   ],
   "metadata": {
    "collapsed": false
   },
   "id": "506ec5ea18b99bf1"
  },
  {
   "cell_type": "code",
   "execution_count": null,
   "outputs": [],
   "source": [
    "# implementing GetMaxQuantity\n",
    "max_quantity_query = \"\"\"\n",
    "DROP PROCEDURE IF EXISTS GetMaxQuantity;\n",
    "DELIMITER //\n",
    "\n",
    "CREATE PROCEDURE GetMaxQuantity()\n",
    "BEGIN\n",
    "SELECT MAX(quantity) AS 'Max Quantity in Order'\n",
    "FROM Orders;\n",
    "END; //\n",
    "\n",
    "DELIMITER ;\"\"\"\n",
    "\n",
    "cursor.execute(max_quantity_query)\n",
    "print(\"GetMaxQuantity procedure created.\")"
   ],
   "metadata": {
    "collapsed": false
   },
   "id": "8afc842b9bdfedc2"
  },
  {
   "cell_type": "code",
   "execution_count": null,
   "outputs": [],
   "source": [
    "get_order_detail_query = \"\"\"\n",
    "PREPARE GetOrderDetail FROM\n",
    "'SELECT OrderID, Quantity, TotalCost AS Cost\n",
    "FROM orders\n",
    "WHERE CustomerID = ?';\n",
    "\n",
    "SET @id = 1;\n",
    "EXECUTE GetOrderDetail USING @id;\n",
    "\"\"\"\n",
    "cursor.execute(get_order_detail_query)\n",
    "print(\"GetOrderDetail procedure created.\")"
   ],
   "metadata": {
    "collapsed": false
   },
   "id": "2bed41e248f40504"
  },
  {
   "cell_type": "code",
   "execution_count": null,
   "outputs": [],
   "source": [
    "cancel_booking_query = \"\"\"\n",
    "DELIMITER //\n",
    "\n",
    "CREATE PROCEDURE CancelBooking(IN Booking_id INT)\n",
    "BEGIN\n",
    "    DELETE FROM Bookings WHERE BookingID = Booking_id;\n",
    "    SELECT CONCAT(\"Booking \", Booking_id, \" cancelled\") AS \"Confirmation\";\n",
    "END //\n",
    "DELIMITER ;\n",
    "\"\"\"\n",
    "cursor.execute(cancel_booking_query)\n",
    "print(\"CancelBooking procedure created.\")"
   ],
   "metadata": {
    "collapsed": false
   },
   "id": "a4713036218dd22f"
  },
  {
   "cell_type": "code",
   "execution_count": null,
   "outputs": [],
   "source": [
    "add_booking_query = \"\"\"\n",
    "DELIMITER //\n",
    "CREATE PROCEDURE IF NOT EXISTS AddBooking (table_nb INT, staff_id INT, book_date DATE, cust_id CHAR(11), book_time TIME)\n",
    "BEGIN\n",
    "START TRANSACTION;\n",
    "\tSELECT 1 AS 'status'\n",
    "\tFROM bookings \n",
    "\tWHERE booking_date = book_date\n",
    "\tAND table_no = table_nb\n",
    "\tAND booking_time = book_time\n",
    "\tLIMIT 1\n",
    "\tINTO @booking_status;\n",
    "\n",
    "IF @booking_status = 1 THEN\n",
    "\tROLLBACK;\n",
    "\tSELECT CONCAT(\"A client has already booked table \", table_nb, \" on \", book_date, \" at \", book_time, \". Cannot add booking. Transaction cancelled.\") AS 'Booking status';\n",
    "\n",
    "ELSE\n",
    "\tINSERT INTO bookings (table_no, booking_staff_id, booking_date, booking_customer_id, booking_time ) VALUES \n",
    "\t(table_nb, staff_id, book_date, cust_id, book_time);\n",
    "COMMIT;\n",
    "\n",
    "SELECT CONCAT(\"Table \", table_number, \" is free - booking successful.\") AS 'Booking status';\n",
    "END IF;\n",
    "END //\n",
    "\n",
    "DELIMITER ;\n",
    "\"\"\"\n",
    "cursor.execute(add_booking_query)\n",
    "print(\"AddBooking procedure created.\")"
   ],
   "metadata": {
    "collapsed": false
   },
   "id": "cf735c13c44f6e5f"
  },
  {
   "cell_type": "code",
   "execution_count": null,
   "outputs": [],
   "source": [
    "cancel_booking_query = \"\"\"\n",
    "DELIMITER //\n",
    "\n",
    "CREATE PROCEDURE CancelBooking(IN Booking_id INT)\n",
    "BEGIN\n",
    "    DELETE FROM Bookings WHERE BookingID = Booking_id;\n",
    "    SELECT CONCAT(\"Booking \", Booking_id, \" cancelled\") AS \"Confirmation\";\n",
    "END //\n",
    "DELIMITER ;\n",
    "\"\"\"\n",
    "cursor.execute(cancel_booking_query)\n",
    "print(\"CancelBooking procedure created.\")"
   ],
   "metadata": {
    "collapsed": false
   },
   "id": "efbfec230647412a"
  },
  {
   "cell_type": "code",
   "execution_count": null,
   "outputs": [],
   "source": [
    "check_booking_query = \"\"\"\n",
    "DELIMITER //\n",
    "CREATE PROCEDURE IF NOT EXISTS CheckBooking (book_date DATE, book_time TIME, table_num INT)\n",
    "BEGIN\n",
    "DECLARE table_booked INT DEFAULT 0;\n",
    "SELECT \n",
    "    COUNT(table_booked)\n",
    "INTO table_booked FROM\n",
    "    bookings\n",
    "WHERE\n",
    "    booking_date = book_date\n",
    "        AND booking_time = book_time\n",
    "        AND table_no = table_num;\n",
    "    IF table_booked > 0 THEN\n",
    "      SELECT CONCAT( \"Table \",table_num, \" is already booked at \",book_time, \" on \", book_date,\".\") AS \"Booking status\";\n",
    "      ELSE \n",
    "      SELECT CONCAT( \"Table \",table_num,\" is not booked at \",book_time,\" on \",book_date,\".\") AS \"Booking status\";\n",
    "    END IF;\n",
    "END//\n",
    "DELIMITER ;\n",
    "\"\"\"\n",
    "cursor.execute(check_booking_query)\n",
    "print(\"CheckBooking procedure created.\")"
   ],
   "metadata": {
    "collapsed": false
   },
   "id": "968ebe1f585ebe36"
  },
  {
   "cell_type": "code",
   "execution_count": null,
   "outputs": [],
   "source": [
    "update_booking_query = \"\"\"\n",
    "DELIMITER //\n",
    "\n",
    "CREATE PROCEDURE UpdateBooking(IN Booking_id INT, IN Booking_Date DATETIME)\n",
    "BEGIN\n",
    "UPDATE Bookings SET BookingDate = Booking_Date\n",
    "WHERE BookingID = Booking_id;\n",
    "SELECT CONCAT(\"Booking \", Booking_id, \" updated\") AS \"Confirmation\";\n",
    "END //\n",
    "DELIMITER ;\n",
    "\"\"\"\n",
    "cursor.execute(update_booking_query)\n",
    "print(\"UpdateBooking procedure created.\")"
   ],
   "metadata": {
    "collapsed": false
   },
   "id": "daed3c861fbcb6e4"
  }
 ],
 "metadata": {
  "kernelspec": {
   "display_name": "Python 3",
   "language": "python",
   "name": "python3"
  },
  "language_info": {
   "codemirror_mode": {
    "name": "ipython",
    "version": 2
   },
   "file_extension": ".py",
   "mimetype": "text/x-python",
   "name": "python",
   "nbconvert_exporter": "python",
   "pygments_lexer": "ipython2",
   "version": "2.7.6"
  }
 },
 "nbformat": 4,
 "nbformat_minor": 5
}
